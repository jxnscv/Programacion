{
  "nbformat": 4,
  "nbformat_minor": 0,
  "metadata": {
    "colab": {
      "provenance": [],
      "authorship_tag": "ABX9TyMNIcdSLLOT05y6JqmS0ai/",
      "include_colab_link": true
    },
    "kernelspec": {
      "name": "python3",
      "display_name": "Python 3"
    },
    "language_info": {
      "name": "python"
    }
  },
  "cells": [
    {
      "cell_type": "markdown",
      "metadata": {
        "id": "view-in-github",
        "colab_type": "text"
      },
      "source": [
        "<a href=\"https://colab.research.google.com/github/jxnscv/Programacion/blob/main/datos_1.ipynb\" target=\"_parent\"><img src=\"https://colab.research.google.com/assets/colab-badge.svg\" alt=\"Open In Colab\"/></a>"
      ]
    },
    {
      "cell_type": "code",
      "execution_count": null,
      "metadata": {
        "id": "jXjFa7CCfO9-"
      },
      "outputs": [],
      "source": [
        "import requests\n",
        "import pandas as pd\n",
        "import streamlit as st\n",
        "\n",
        "def obtener_datos_paises():\n",
        "    url = 'https://restcountries.com/v3.1/all'\n",
        "    respuesta = requests.get(url)\n",
        "    if respuesta.status_code == 200:\n",
        "        return respuesta.json()\n",
        "    return []\n",
        "\n",
        "def convertir_a_dataframe(paises):\n",
        "    datos = []\n",
        "    for pais in paises:\n",
        "        datos.append({\n",
        "            'Nombre Común': pais.get('name', {}).get('common', 'No disponible'),\n",
        "            'Región Geográfica': pais.get('region', 'No disponible'),\n",
        "            'Población Total': pais.get('population', 0),\n",
        "            'Área en km²': pais.get('area', 0),\n",
        "            'Número de Fronteras': len(pais.get('borders', [])),\n",
        "            'Número de Idiomas Oficiales': len(pais.get('languages', {})),\n",
        "            'Número de Zonas Horarias': len(pais.get('timezones', []))\n",
        "        })\n",
        "    return pd.DataFrame(datos)\n",
        "\n",
        "paises = obtener_datos_paises()\n",
        "df = convertir_a_dataframe(paises)\n",
        "st.write(df.head())\n"
      ]
    }
  ]
}